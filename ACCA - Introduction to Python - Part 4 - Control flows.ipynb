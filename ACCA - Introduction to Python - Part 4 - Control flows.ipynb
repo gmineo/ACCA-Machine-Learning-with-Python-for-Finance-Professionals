{
 "cells": [
  {
   "cell_type": "markdown",
   "metadata": {},
   "source": [
    "<img src=\"https://courses.edx.org/asset-v1:ACCA+ML001+2T2021+type@asset+block@acca-logo.jpg\" alt=\"ACCA logo\" style=\"width: 400px;\"/>\n",
    "\n",
    "# Introduction to Python\n",
    "## Part 4 - Control flows\n",
    "\n",
    "* **Course:** __Machine learning with Python for finance professionals__ by ACCA\n",
    "* **Instructor:** [Coefficient](https://coefficient.ai) / [@CoefficientData](https://twitter.com/CoefficientData)\n",
    "\n",
    "---"
   ]
  },
  {
   "cell_type": "markdown",
   "metadata": {},
   "source": [
    "<div class=\"alert alert-block alert-info\" style=\"background-color: #BA001E; border: 0px; -moz-border-radius: 10px; -webkit-border-radius: 10px;\">\n",
    "<h2 style=\"color: white\">\n",
    "if\n",
    "</h2><br>\n",
    "</div>"
   ]
  },
  {
   "cell_type": "markdown",
   "metadata": {},
   "source": [
    "`if` statements are able to make decisions on your behalf. When an `if` statement is evaluated, if it's True it does one thing, if it's False it does something else."
   ]
  },
  {
   "cell_type": "code",
   "execution_count": null,
   "metadata": {},
   "outputs": [],
   "source": [
    "if True:\n",
    "    print(\"It's True!\")"
   ]
  },
  {
   "cell_type": "markdown",
   "metadata": {},
   "source": [
    "<div class=\"alert alert-block alert-warning\">\n",
    "    <b><i class=\"fa fa-check-square\" aria-hidden=\"true\"></i>&nbsp; Check</b><br>\n",
    "\n",
    "Try changing the word <code>True</code> (we call True/False \"booleans\") in the cell above to <code>False</code>. It should run but not print anything. Why?\n",
    "\n",
    "</div>"
   ]
  },
  {
   "cell_type": "code",
   "execution_count": null,
   "metadata": {},
   "outputs": [],
   "source": [
    "if 1 == 2:  # this line \"resolves to False\"\n",
    "    print(\"The if statement is True!\")\n",
    "else:\n",
    "    print(\"The if statement is False!\")"
   ]
  },
  {
   "cell_type": "markdown",
   "metadata": {},
   "source": [
    "<div class=\"alert alert-block alert-warning\">\n",
    "    <b><i class=\"fa fa-check-square\" aria-hidden=\"true\"></i>&nbsp; Check</b><br>\n",
    "\n",
    "Try changing <code>1 == 2</code> so it reads <code>1 == 1</code>. What changed?\n",
    "\n",
    "</div>"
   ]
  },
  {
   "cell_type": "markdown",
   "metadata": {},
   "source": [
    "`if` statements work great with variables, and we can have multiple \"else if\" (`elif` in Python) statements to catch various situations."
   ]
  },
  {
   "cell_type": "code",
   "execution_count": null,
   "metadata": {},
   "outputs": [],
   "source": [
    "temperature = 25"
   ]
  },
  {
   "cell_type": "code",
   "execution_count": null,
   "metadata": {},
   "outputs": [],
   "source": [
    "if temperature > 30:\n",
    "    print(\"It's too hot\")\n",
    "elif temperature > 15:\n",
    "    print(\"Perfect weather\")\n",
    "elif temperature > 0:\n",
    "    print(\"It's too cold\")\n",
    "else:\n",
    "    print(\"Is it snowing yet?\")"
   ]
  },
  {
   "cell_type": "markdown",
   "metadata": {},
   "source": [
    "<div class=\"alert alert-block alert-warning\">\n",
    "<b><i class=\"fa fa-check-square\" aria-hidden=\"true\"></i>&nbsp; Check</b><br>\n",
    "\n",
    "Try changing the value of the <code>temperature</code> variable and confirm that you get different messages being printed out depending on the temperature.\n",
    "\n",
    "</div>"
   ]
  },
  {
   "cell_type": "markdown",
   "metadata": {},
   "source": [
    "---"
   ]
  },
  {
   "cell_type": "markdown",
   "metadata": {},
   "source": [
    "> ### 🚩 Exercise\n",
    "> \n",
    "> Define two numbers, `A = 10` and `B = 100`. Print \"A is larger\", \"B is larger\" or \"A and B are the same\" depending on the inputs.\n",
    "> \n",
    "> Tips:\n",
    "> - Watch out for indentation. Each clause \"contains\" code to be run if that clause is True. We use a four space indent to determine what each clause contains.\n",
    "> - Don't forget the colon at the end of each if/elif/else line."
   ]
  },
  {
   "cell_type": "code",
   "execution_count": null,
   "metadata": {},
   "outputs": [],
   "source": [
    "# ✏️ ENTER YOUR SOLUTION HERE\n",
    "\n",
    "\n",
    "\n",
    "\n"
   ]
  },
  {
   "cell_type": "markdown",
   "metadata": {},
   "source": [
    "---"
   ]
  },
  {
   "cell_type": "markdown",
   "metadata": {},
   "source": [
    "<div class=\"alert alert-block alert-info\" style=\"background-color: #BA001E; border: 0px; -moz-border-radius: 10px; -webkit-border-radius: 10px;\">\n",
    "<h2 style=\"color: white\">\n",
    "for loop\n",
    "</h2><br>\n",
    "</div>"
   ]
  },
  {
   "cell_type": "markdown",
   "metadata": {},
   "source": [
    "Loops are incredibly useful for automating things. Without loops we'd have to write code like this:"
   ]
  },
  {
   "cell_type": "code",
   "execution_count": null,
   "metadata": {},
   "outputs": [],
   "source": [
    "x = 1\n",
    "print(\"x is\", x)\n",
    "\n",
    "x = 2\n",
    "print(\"x is\", x)\n",
    "\n",
    "x = 3\n",
    "print(\"x is\", x)\n",
    "\n",
    "x = 4\n",
    "print(\"x is\", x)\n",
    "\n",
    "x = 5\n",
    "print(\"x is\", x)"
   ]
  },
  {
   "cell_type": "markdown",
   "metadata": {},
   "source": [
    "With Python's \"for loop\" we can rewrite this:"
   ]
  },
  {
   "cell_type": "code",
   "execution_count": null,
   "metadata": {},
   "outputs": [],
   "source": [
    "for x in [1, 2, 3, 4, 5]:\n",
    "    print(\"x is\", x)"
   ]
  },
  {
   "cell_type": "markdown",
   "metadata": {},
   "source": [
    "Interpret this loop above as follows:\n",
    "- Go through this list of numbers\n",
    "- Start with the number 1, assign it to a placeholder variable called `x`\n",
    "- `print(\"x is\", x)` prints the message `\"x is\"` and the value of `x` all in one go\n",
    "- Then move onto the number 2, assign it to x (so now x=2) and print the new value of x \n",
    "- Then move onto the number 3, and so on until you get to the end of the input list"
   ]
  },
  {
   "cell_type": "code",
   "execution_count": null,
   "metadata": {},
   "outputs": [],
   "source": [
    "# range(10) is the numbers 0-9 (ten numbers)\n",
    "for number in range(10):\n",
    "    print(number ** 2)"
   ]
  },
  {
   "cell_type": "markdown",
   "metadata": {},
   "source": [
    "<div class=\"alert alert-block alert-warning\">\n",
    "<b><i class=\"fa fa-check-square\" aria-hidden=\"true\"></i>&nbsp; Check</b><br>\n",
    "\n",
    "In this example, what is <code>range(10)</code>? It should give you 10 numbers. Can you remember (or figure out) what the <code>**</code> operator does?\n",
    "\n",
    "</div>"
   ]
  },
  {
   "cell_type": "markdown",
   "metadata": {},
   "source": [
    "---"
   ]
  },
  {
   "cell_type": "markdown",
   "metadata": {},
   "source": [
    "> ### 🚩Exercise\n",
    "> \n",
    "> 1. Using the `days` variable from earlier, iterate through the days with a Python `for loop`, printing each day out.\n",
    "> 2. Add an `if` condition _inside_ your loop, i.e. underneath the line containing `for` but above the line containing `print()`. Remember that the `print()` line will need double-indenting. The `if condition` should resolve true only if the day is `\"Friday\"`.\n",
    "> 3. Change your `if` condition to check whether the day contains the letter `\"e\"`. We've provided some handy code below to help guide you in how to do this."
   ]
  },
  {
   "cell_type": "code",
   "execution_count": null,
   "metadata": {},
   "outputs": [],
   "source": [
    "days = [\"Monday\", \"Tuesday\", \"Wednesday\", \"Thursday\", \"Friday\", \"Saturday\", \"Sunday\"]"
   ]
  },
  {
   "cell_type": "code",
   "execution_count": null,
   "metadata": {},
   "outputs": [],
   "source": [
    "\"e\" in \"Monday\""
   ]
  },
  {
   "cell_type": "code",
   "execution_count": null,
   "metadata": {},
   "outputs": [],
   "source": [
    "\"e\" in \"Tuesday\""
   ]
  },
  {
   "cell_type": "code",
   "execution_count": null,
   "metadata": {},
   "outputs": [],
   "source": [
    "# 1. Using the days variable from earlier, iterate through the days with a Python\n",
    "#    for loop, printing each day out.\n",
    "\n",
    "# ✏️ ENTER YOUR SOLUTION HERE\n",
    "\n"
   ]
  },
  {
   "cell_type": "code",
   "execution_count": null,
   "metadata": {},
   "outputs": [],
   "source": [
    "# 2. Add an if condition inside your loop, i.e. underneath the line containing for\n",
    "#    but above the line containing print(). Remember that the print() line will need\n",
    "#    double-indenting. The if condition should resolve true only if the day is \"Friday\".\n",
    "\n",
    "# ✏️ ENTER YOUR SOLUTION HERE\n",
    "\n"
   ]
  },
  {
   "cell_type": "code",
   "execution_count": null,
   "metadata": {},
   "outputs": [],
   "source": [
    "# 3. Change your if condition to check whether the day contains the letter \"e\".\n",
    "#    We've provided some handy code below to help guide you in how to do this.\n",
    "\n",
    "# ✏️ ENTER YOUR SOLUTION HERE\n",
    "\n"
   ]
  },
  {
   "cell_type": "markdown",
   "metadata": {},
   "source": [
    "---"
   ]
  },
  {
   "cell_type": "markdown",
   "metadata": {},
   "source": [
    "<div class=\"alert alert-block alert-info\" style=\"background-color: #BA001E; border: 0px; -moz-border-radius: 10px; -webkit-border-radius: 10px;\">\n",
    "<h2 style=\"color: white\">\n",
    "Functions\n",
    "</h2><br>\n",
    "</div>"
   ]
  },
  {
   "cell_type": "markdown",
   "metadata": {},
   "source": [
    "When we create...\n",
    "- ...a variable, we are storing some **information** and giving it a name.\n",
    "- ...a function, we are storing some **code** and giving it a name.\n",
    "\n",
    "We start with:\n",
    "- `def` (\"define\" a function), then\n",
    "- `cake` (the name of my function, but feel free to rename it if you like), then\n",
    "- `()` (it needs brackets), then\n",
    "- `:` (don't forget the colon), then\n",
    "- we indent everything that \"belongs\" to the function inside/underneath the function with a four-space (or single-tab) indent."
   ]
  },
  {
   "cell_type": "code",
   "execution_count": null,
   "metadata": {},
   "outputs": [],
   "source": [
    "def cake():\n",
    "    print(\"🍰🍰🍰\")"
   ]
  },
  {
   "cell_type": "markdown",
   "metadata": {},
   "source": [
    "Running this last cell doesn't do anything. It \"defines\" the function but doesn't run it, a bit like writing down a recipe but not yet baking the cake. Let's make some cake."
   ]
  },
  {
   "cell_type": "code",
   "execution_count": null,
   "metadata": {},
   "outputs": [],
   "source": [
    "# This runs or \"calls\" the cake function. The brackets here are essential.\n",
    "cake()"
   ]
  },
  {
   "cell_type": "markdown",
   "metadata": {},
   "source": [
    "Functions can have inputs. We call these \"**arguments**\"."
   ]
  },
  {
   "cell_type": "code",
   "execution_count": null,
   "metadata": {},
   "outputs": [],
   "source": [
    "def cake(slices):\n",
    "    print(\"🍰\" * slices)"
   ]
  },
  {
   "cell_type": "code",
   "execution_count": null,
   "metadata": {},
   "outputs": [],
   "source": [
    "cake(slices=3)"
   ]
  },
  {
   "cell_type": "markdown",
   "metadata": {},
   "source": [
    "Let's add a default to the `slices` argument, defaulting to 1."
   ]
  },
  {
   "cell_type": "code",
   "execution_count": null,
   "metadata": {},
   "outputs": [],
   "source": [
    "def cake(slices=1):\n",
    "    print(\"🍰\" * slices)"
   ]
  },
  {
   "cell_type": "markdown",
   "metadata": {},
   "source": [
    "If we forget to include the `slices` argument, it will default to a single slice."
   ]
  },
  {
   "cell_type": "code",
   "execution_count": null,
   "metadata": {},
   "outputs": [],
   "source": [
    "cake(slices=8)"
   ]
  },
  {
   "cell_type": "markdown",
   "metadata": {},
   "source": [
    "Let's see if we can store this cake in a variable."
   ]
  },
  {
   "cell_type": "code",
   "execution_count": null,
   "metadata": {},
   "outputs": [],
   "source": [
    "box = cake(slices=50)"
   ]
  },
  {
   "cell_type": "code",
   "execution_count": null,
   "metadata": {},
   "outputs": [],
   "source": [
    "box"
   ]
  },
  {
   "cell_type": "code",
   "execution_count": null,
   "metadata": {},
   "outputs": [],
   "source": [
    "print(box)"
   ]
  },
  {
   "cell_type": "markdown",
   "metadata": {},
   "source": [
    "> **🤔 What's happening here?**\n",
    "> \n",
    "> `cake()` is printing some cake, but it isn't \"returning\" any cake.\n",
    "> \n",
    "> Imagine you asked me for some cake, and I show you a delicious slice of freshly baked cake but don't actually give it to you. This is equivalent to calling `print(\"🍰\")` instead of `return \"🍰\"`.\n",
    "> \n",
    "> ❗ **Don't forget to use `return` in functions if you'd like to use their output!**\n",
    "> \n",
    "> So what is the function above returning, given that it has no `return` statement? Actually, it \"returns\" nothing, specifically it returns the Python `None` data type. This is a special data type to denote \"nothing-ness\", analogous to an empty cell in Excel or a NULL in a database.\n",
    "> \n",
    "> Let's change our function one last time so it returns instead of prints."
   ]
  },
  {
   "cell_type": "code",
   "execution_count": null,
   "metadata": {},
   "outputs": [],
   "source": [
    "def cake(slices=1):\n",
    "    return \"🍰\" * slices  # no brackets needed"
   ]
  },
  {
   "cell_type": "code",
   "execution_count": null,
   "metadata": {},
   "outputs": [],
   "source": [
    "box = cake(slices=800)"
   ]
  },
  {
   "cell_type": "code",
   "execution_count": null,
   "metadata": {},
   "outputs": [],
   "source": [
    "# The box is now full of cake!\n",
    "box"
   ]
  },
  {
   "cell_type": "markdown",
   "metadata": {},
   "source": [
    "Let's try a more advanced example, with two arguments but one returned output."
   ]
  },
  {
   "cell_type": "code",
   "execution_count": null,
   "metadata": {},
   "outputs": [],
   "source": [
    "def add(x, y):\n",
    "    return x + y"
   ]
  },
  {
   "cell_type": "code",
   "execution_count": null,
   "metadata": {},
   "outputs": [],
   "source": [
    "add(x=5, y=3)"
   ]
  },
  {
   "cell_type": "code",
   "execution_count": null,
   "metadata": {},
   "outputs": [],
   "source": [
    "# Make sure you understand every line here.\n",
    "p = add(x=3, y=5)\n",
    "q = add(x=p, y=5)\n",
    "print(p, q)"
   ]
  },
  {
   "cell_type": "markdown",
   "metadata": {},
   "source": [
    "---"
   ]
  },
  {
   "cell_type": "markdown",
   "metadata": {},
   "source": [
    "> ### 🚩Exercise\n",
    "> \n",
    "> Write a function called `circle` which takes a single argument `radius` and calculates the area of a circle with that radius. The formula is as follows:\n",
    "> \n",
    "> $$ \\text{Area of a circle} = \\pi r^2 $$\n",
    "\n"
   ]
  },
  {
   "cell_type": "code",
   "execution_count": null,
   "metadata": {},
   "outputs": [],
   "source": [
    "# You can use 3.14 if you want\n",
    "pi = 3.14"
   ]
  },
  {
   "cell_type": "code",
   "execution_count": null,
   "metadata": {},
   "outputs": [],
   "source": [
    "# Or you can import a high-precision pi from Python's math module\n",
    "from math import pi\n",
    "print(pi)"
   ]
  },
  {
   "cell_type": "code",
   "execution_count": null,
   "metadata": {},
   "outputs": [],
   "source": [
    "# ✏️ ENTER YOUR SOLUTION HERE\n",
    "\n",
    "\n",
    "\n"
   ]
  },
  {
   "cell_type": "code",
   "execution_count": null,
   "metadata": {},
   "outputs": [],
   "source": [
    "# This will display \"True\" if you've done this exercise correctly.\n",
    "answer = circle(radius=7)\n",
    "round(answer) == 154"
   ]
  },
  {
   "cell_type": "markdown",
   "metadata": {},
   "source": [
    "> ### 🚩Exercise\n",
    "> \n",
    "> Write a function called `calculate_investment_value` which takes three arguments, `principal`, `rate` and `years`. It should return the current value of an investment originally worth `principal`, after `years` of compound interest at `rate`. The formula for this is as follows:\n",
    "> \n",
    "> $$ A = P (1 + r)^t $$\n",
    "> where:\n",
    "> - `A` = current value of investment\n",
    "> - `P` = original/principal value of investment\n",
    "> - `r` = compound annual interest rate\n",
    "> - `t` = number of years elapsed.\n",
    "> \n",
    "> For example, if I invest £1,000 in a cryptocurrency fund with a 10% compound annual interest rate, then after five years we'd expect this to be valued at `1000 * (1 + 0.1)^5 = 1610.51`."
   ]
  },
  {
   "cell_type": "markdown",
   "metadata": {},
   "source": [
    "<div class=\"alert alert-block alert-info\">\n",
    "<b>💡 Tip:</b> Ensure you use brackets in your mathematical expression to ensure that Python calculates the above formula correctly.\n",
    "</div>"
   ]
  },
  {
   "cell_type": "code",
   "execution_count": null,
   "metadata": {},
   "outputs": [],
   "source": [
    "# ✏️ ENTER YOUR SOLUTION HERE\n",
    "\n",
    "\n",
    "\n"
   ]
  },
  {
   "cell_type": "code",
   "execution_count": null,
   "metadata": {},
   "outputs": [],
   "source": [
    "# This will display \"True\" if you've done this exercise correctly.\n",
    "answer = calculate_investment_value(principal=1000, rate=0.1, years=5)\n",
    "round(answer) == 1611"
   ]
  },
  {
   "cell_type": "markdown",
   "metadata": {},
   "source": [
    "---\n",
    "\n",
    "---"
   ]
  }
 ],
 "metadata": {
  "kernelspec": {
   "display_name": "Python 3",
   "language": "python",
   "name": "python3"
  },
  "language_info": {
   "codemirror_mode": {
    "name": "ipython",
    "version": 3
   },
   "file_extension": ".py",
   "mimetype": "text/x-python",
   "name": "python",
   "nbconvert_exporter": "python",
   "pygments_lexer": "ipython3",
   "version": "3.8.8"
  },
  "toc": {
   "base_numbering": 1,
   "nav_menu": {},
   "number_sections": true,
   "sideBar": true,
   "skip_h1_title": false,
   "title_cell": "Table of Contents",
   "title_sidebar": "Contents",
   "toc_cell": false,
   "toc_position": {},
   "toc_section_display": true,
   "toc_window_display": false
  }
 },
 "nbformat": 4,
 "nbformat_minor": 4
}
