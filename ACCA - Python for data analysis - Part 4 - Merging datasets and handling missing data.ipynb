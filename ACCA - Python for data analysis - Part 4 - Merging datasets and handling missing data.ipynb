{
 "cells": [
  {
   "cell_type": "markdown",
   "metadata": {},
   "source": [
    "<img src=\"https://courses.edx.org/asset-v1:ACCA+ML001+2T2021+type@asset+block@acca-logo.jpg\" alt=\"ACCA logo\" style=\"width: 400px;\"/>\n",
    "\n",
    "# Python for data analysis\n",
    "## Part 4 - Merging datasets & handling missing data\n",
    "\n",
    "* **Course:** __Machine learning with Python for finance professionals__ by ACCA\n",
    "* **Instructor:** [Coefficient](https://coefficient.ai) / [@CoefficientData](https://twitter.com/CoefficientData)\n",
    "\n",
    "---"
   ]
  },
  {
   "cell_type": "code",
   "execution_count": null,
   "metadata": {},
   "outputs": [],
   "source": [
    "import numpy as np\n",
    "import pandas as pd\n",
    "import seaborn as sns"
   ]
  },
  {
   "cell_type": "code",
   "execution_count": null,
   "metadata": {},
   "outputs": [],
   "source": [
    "# Read in the Dream Destination hotel data\n",
    "orders = pd.read_excel(\"Hotel Industry - Orders Database - 2019.xlsx\",\n",
    "                       sheet_name=\"Order Database\")\n",
    "orders.head(3)"
   ]
  },
  {
   "cell_type": "markdown",
   "metadata": {},
   "source": [
    "<div class=\"alert alert-block alert-info\" style=\"background-color: #BA001E; border: 0px; -moz-border-radius: 10px; -webkit-border-radius: 10px;\">\n",
    "<h2 style=\"color: white\">\n",
    "Merging DataFrames\n",
    "</h2><br>\n",
    "</div>\n",
    "\n",
    "We will show you how to construct two dataframes:\n",
    "- `cities`: this maps each country to its capital city. We construct this by passing a list of dictionaries to the `pd.DataFrame()` function.\n",
    "- `continents`: this maps each country to its continent. We construct this by passing a list of lists to the `pd.DataFrame()` function."
   ]
  },
  {
   "cell_type": "code",
   "execution_count": null,
   "metadata": {},
   "outputs": [],
   "source": [
    "# cities = list of dictionaries\n",
    "cities_data = [\n",
    "    {'country': 'Denmark', 'capital': 'Copenhagen'},\n",
    "    {'country': 'France', 'capital': 'Paris'},\n",
    "    {'country': 'China', 'capital': 'Beijing'},\n",
    "    {'country': 'Colombia', 'capital': 'Bogotá'},\n",
    "]\n",
    "cities_data"
   ]
  },
  {
   "cell_type": "code",
   "execution_count": null,
   "metadata": {},
   "outputs": [],
   "source": [
    "# Note how it figures out the column names automatically\n",
    "cities = pd.DataFrame(cities_data)\n",
    "cities"
   ]
  },
  {
   "cell_type": "code",
   "execution_count": null,
   "metadata": {},
   "outputs": [],
   "source": [
    "# continents = list of lists\n",
    "continents_data = [\n",
    "    ['Denmark', 'Europe'],\n",
    "    ['France', 'Europe'],\n",
    "    ['China', 'Asia'],\n",
    "    ['Kenya', 'Africa'],\n",
    "]"
   ]
  },
  {
   "cell_type": "code",
   "execution_count": null,
   "metadata": {},
   "outputs": [],
   "source": [
    "# We need to specify the column names this time\n",
    "continents = pd.DataFrame(continents_data, columns=['country', 'continent'])\n",
    "continents"
   ]
  },
  {
   "cell_type": "markdown",
   "metadata": {},
   "source": [
    "We have two dataframes that we'd like to join. We need to decide _how_ to join though. There are several options.\n",
    "\n",
    "<img src=\"https://courses.edx.org/asset-v1:ACCA+ML001+2T2021+type@asset+block@joins.png\" alt=\"matplotlib\" style=\"width: 600px;\"/>\n",
    "\n",
    "In the examples below, we will assume that we are joining on country, that `cities` is the \"left dataframe\" and `continents` is the \"right dataframe\".\n",
    "\n",
    "| Join Type | Description | Result |\n",
    "| -- | -- | -- |\n",
    "| **Inner** | Keep all rows present in both dataframes. | Denmark, France, and China only. |\n",
    "| **Left** | Keep all the rows present in the \"left\" dataframe. If there isn't a match in the \"right\" dataframe, you will see missing values. | Denmark, France, China, Colombia (all the countries in the left dataframe). |\n",
    "| **Right** | Keep all the rows present in the \"right\" dataframe. If there isn't a match in the \"left\" dataframe, you will see missing values. | Denmark, France, China, Kenya (all the countries in the right dataframe). |\n",
    "| **Outer** | Keep all the rows present in **both** dataframes, with missing values present where a match cannot be found. | Denmark, France, China, Columbia _and_ Kenya. |\n",
    "\n",
    "We will be using the [pandas `pd.merge()` function](https://pandas.pydata.org/pandas-docs/stable/reference/api/pandas.DataFrame.merge.html), more advanced examples are available on the docs page."
   ]
  },
  {
   "cell_type": "code",
   "execution_count": null,
   "metadata": {},
   "outputs": [],
   "source": [
    "# Let's try an inner join\n",
    "pd.merge(left=cities, right=continents, on='country', how='inner')"
   ]
  },
  {
   "cell_type": "markdown",
   "metadata": {},
   "source": [
    "Does this match the table above? It only retains the countries present in both `cities` and `continents`. How about a left join?"
   ]
  },
  {
   "cell_type": "code",
   "execution_count": null,
   "metadata": {},
   "outputs": [],
   "source": [
    "# Let's try a left join\n",
    "left = pd.merge(left=cities, right=continents, on='country', how='left')\n",
    "left"
   ]
  },
  {
   "cell_type": "markdown",
   "metadata": {},
   "source": [
    "What's happened here? We have Colombia in the `cities` dataframe, but not in the `continents` dataframe. It's still there (because we did a left join), but a placeholder value `NaN` has been inserted for Colombia's continent."
   ]
  },
  {
   "cell_type": "markdown",
   "metadata": {},
   "source": [
    "# \n",
    "\n",
    "<div class=\"alert alert-block alert-info\" style=\"background-color: #BA001E; border: 0px; -moz-border-radius: 10px; -webkit-border-radius: 10px;\">\n",
    "<h2 style=\"color: white\">\n",
    "Missing Data\n",
    "</h2><br>\n",
    "</div>\n",
    "\n",
    "The `NaN` value is how NumPy and pandas represent a missing value in data. In Python, it's `np.nan`."
   ]
  },
  {
   "cell_type": "code",
   "execution_count": null,
   "metadata": {},
   "outputs": [],
   "source": [
    "np.nan"
   ]
  },
  {
   "cell_type": "code",
   "execution_count": null,
   "metadata": {},
   "outputs": [],
   "source": [
    "# We can check if a value is NaN with this function\n",
    "pd.isna(np.nan)"
   ]
  },
  {
   "cell_type": "code",
   "execution_count": null,
   "metadata": {},
   "outputs": [],
   "source": [
    "# It works on whole dataframes\n",
    "pd.isna(left)"
   ]
  },
  {
   "cell_type": "code",
   "execution_count": null,
   "metadata": {},
   "outputs": [],
   "source": [
    "# Or a single column\n",
    "pd.isna(left.continent)"
   ]
  },
  {
   "cell_type": "code",
   "execution_count": null,
   "metadata": {},
   "outputs": [],
   "source": [
    "# We can use this to highlight just the rows with missing data as follows\n",
    "missing_continent = pd.isna(left.continent)\n",
    "left[missing_continent]"
   ]
  },
  {
   "cell_type": "code",
   "execution_count": null,
   "metadata": {},
   "outputs": [],
   "source": [
    "# Or to remove them (read the tilde (~) sign here as \"not\", i.e. it flips True to False and vice versa)\n",
    "left = left[~missing_continent]\n",
    "left"
   ]
  },
  {
   "cell_type": "markdown",
   "metadata": {},
   "source": [
    "---\n",
    "\n",
    "> ### 🚩 Exercises\n",
    "> 1. Right join `cities` and `continents` on country and assign it to a variable called `right`.\n",
    "> 2. Try running `right.fillna('-')`. What does this do? If in doubt, [check the documentation](https://pandas.pydata.org/pandas-docs/stable/reference/api/pandas.DataFrame.fillna.html).\n",
    "> 3. Update the capital column in your `right` dataframe with `right.capital.fillna('-')`."
   ]
  },
  {
   "cell_type": "code",
   "execution_count": null,
   "metadata": {},
   "outputs": [],
   "source": [
    "# 1. Right join `cities` and `continents` on country as assign it to a variable called `right`.\n",
    "\n",
    "# ✏️ ENTER YOUR SOLUTION HERE\n",
    "\n",
    "\n"
   ]
  },
  {
   "cell_type": "code",
   "execution_count": null,
   "metadata": {},
   "outputs": [],
   "source": [
    "# 2. Try running `right.fillna('-')`. What does this do?\n",
    "\n",
    "# ✏️ ENTER YOUR SOLUTION HERE\n",
    "\n",
    "\n"
   ]
  },
  {
   "cell_type": "code",
   "execution_count": null,
   "metadata": {},
   "outputs": [],
   "source": [
    "# 3. Update the capital column in your `right` dataframe with `right.capital.fillna('-')`.\n",
    "\n",
    "# ✏️ ENTER YOUR SOLUTION HERE\n",
    "\n",
    "\n"
   ]
  },
  {
   "cell_type": "markdown",
   "metadata": {},
   "source": [
    "We will try a full outer join in the next section."
   ]
  },
  {
   "cell_type": "markdown",
   "metadata": {},
   "source": [
    "---"
   ]
  },
  {
   "cell_type": "markdown",
   "metadata": {},
   "source": [
    "# \n",
    "\n",
    "<div class=\"alert alert-block alert-info\" style=\"background-color: #BA001E; border: 0px; -moz-border-radius: 10px; -webkit-border-radius: 10px;\">\n",
    "<h2 style=\"color: white\">\n",
    "loc vs iloc\n",
    "</h2><br>\n",
    "</div>"
   ]
  },
  {
   "cell_type": "code",
   "execution_count": null,
   "metadata": {},
   "outputs": [],
   "source": [
    "# Let's outer join cities and continents\n",
    "df = pd.merge(left=cities, right=continents, on='country', how='outer')\n",
    "df"
   ]
  },
  {
   "cell_type": "code",
   "execution_count": null,
   "metadata": {},
   "outputs": [],
   "source": [
    "# Notice the bold numbers on the left hand side, these are created when a dataframe is created.\n",
    "# But when the dataframe is sorted, they stay \"stuck onto\" the row initially assigned.\n",
    "df.sort_values('country')"
   ]
  },
  {
   "cell_type": "markdown",
   "metadata": {},
   "source": [
    "### .iloc = \"integer location\""
   ]
  },
  {
   "cell_type": "code",
   "execution_count": null,
   "metadata": {},
   "outputs": [],
   "source": [
    "# We can select rows by their \"integer location\", i.e. positional location from top.\n",
    "# This returns the top row in df, i.e. Denmark, as a Series representing the row.\n",
    "df.iloc[0]"
   ]
  },
  {
   "cell_type": "code",
   "execution_count": null,
   "metadata": {},
   "outputs": [],
   "source": [
    "# If we apply .iloc[0] to the sorted dataframe, it takes the top row still, i.e. China.\n",
    "df.sort_values('country').iloc[0]"
   ]
  },
  {
   "cell_type": "code",
   "execution_count": null,
   "metadata": {},
   "outputs": [],
   "source": [
    "# iloc treats dataframes just like Python lists, i.e. we can slice and use negative indexes.\n",
    "df.iloc[:3]"
   ]
  },
  {
   "cell_type": "code",
   "execution_count": null,
   "metadata": {},
   "outputs": [],
   "source": [
    "df.sort_values('country').iloc[-1:]"
   ]
  },
  {
   "cell_type": "markdown",
   "metadata": {},
   "source": [
    "### .loc = \"index location\""
   ]
  },
  {
   "cell_type": "code",
   "execution_count": null,
   "metadata": {},
   "outputs": [],
   "source": [
    "# .loc[0] returns the ROW WITH INDEX 0\n",
    "df.loc[0]"
   ]
  },
  {
   "cell_type": "code",
   "execution_count": null,
   "metadata": {},
   "outputs": [],
   "source": [
    "# This means that, even if we sorted the dataframe, it still returns Denmark\n",
    "df.sort_values('country').loc[0]"
   ]
  },
  {
   "cell_type": "code",
   "execution_count": null,
   "metadata": {},
   "outputs": [],
   "source": [
    "# This becomes especially useful with datetime indexes. Let's create one now.\n",
    "\n",
    "# First, create a date column using the pd.date_range() function\n",
    "df['date'] = pd.date_range(start='2021-01-01', periods=len(df), freq='D')\n",
    "df"
   ]
  },
  {
   "cell_type": "code",
   "execution_count": null,
   "metadata": {},
   "outputs": [],
   "source": [
    "# Then set this as the index.\n",
    "df.set_index('date')"
   ]
  },
  {
   "cell_type": "code",
   "execution_count": null,
   "metadata": {},
   "outputs": [],
   "source": [
    "# Like everything in pandas, this is not \"applied\" or \"saved\" unless you\n",
    "# reassign back into the df variable.\n",
    "df"
   ]
  },
  {
   "cell_type": "code",
   "execution_count": null,
   "metadata": {},
   "outputs": [],
   "source": [
    "# Let's reassign now\n",
    "df = df.set_index('date')\n",
    "df"
   ]
  },
  {
   "cell_type": "code",
   "execution_count": null,
   "metadata": {},
   "outputs": [],
   "source": [
    "# Now we can compare .loc vs .iloc properly!\n",
    "df.sort_values('country').iloc[:2]"
   ]
  },
  {
   "cell_type": "code",
   "execution_count": null,
   "metadata": {},
   "outputs": [],
   "source": [
    "# Because the index is now dates, we can use the date values in .loc\n",
    "df.sort_values('country').loc['2021-01-05']"
   ]
  },
  {
   "cell_type": "markdown",
   "metadata": {},
   "source": [
    "### Summary\n",
    "`.iloc` treats the dataframe like a list, while `.loc` treats it like a dictionary where the dataframe's index is the key and the row is the value. [This StackOverflow post](https://stackoverflow.com/questions/31593201/how-are-iloc-and-loc-different) is quite useful if you're feeling a bit confused on this topic."
   ]
  },
  {
   "cell_type": "markdown",
   "metadata": {},
   "source": [
    "---\n",
    "\n",
    "> ### 🚩 Exercises\n",
    "> For each of the following examples, try to guess what they might return, then try out each example to test your understanding:\n",
    "> - `df.sort_values('continent').iloc[-2]`\n",
    "> - `df.sort_values('continent').loc[-2]`\n",
    "> - `df.loc['2021-01-02':'2021-01-04']`"
   ]
  },
  {
   "cell_type": "code",
   "execution_count": null,
   "metadata": {},
   "outputs": [],
   "source": [
    "df.sort_values('continent').iloc[-2]"
   ]
  },
  {
   "cell_type": "code",
   "execution_count": null,
   "metadata": {},
   "outputs": [],
   "source": [
    "df.sort_values('continent').loc[-2]"
   ]
  },
  {
   "cell_type": "code",
   "execution_count": null,
   "metadata": {},
   "outputs": [],
   "source": [
    "df.loc['2021-01-02':'2021-01-04']"
   ]
  },
  {
   "cell_type": "markdown",
   "metadata": {},
   "source": [
    "---"
   ]
  },
  {
   "cell_type": "markdown",
   "metadata": {},
   "source": [
    "### Updating a dataframe with .loc\n",
    "`.loc` can also be used to insert a value into a specific cell in the dataframe. Let's fill in the missing values by hand. The syntax for this is:\n",
    "\n",
    "```python\n",
    "DATAFRAME.loc[ROW_FILTER, COLUMN] = NEW_VALUE\n",
    "```"
   ]
  },
  {
   "cell_type": "code",
   "execution_count": null,
   "metadata": {},
   "outputs": [],
   "source": [
    "# We're going to update the capital of Kenya to read \"Nairobi\".\n",
    "df"
   ]
  },
  {
   "cell_type": "code",
   "execution_count": null,
   "metadata": {},
   "outputs": [],
   "source": [
    "row_filter = (df.country == 'Kenya')\n",
    "df.loc[row_filter, 'capital'] = 'Nairobi'\n",
    "df"
   ]
  },
  {
   "cell_type": "code",
   "execution_count": null,
   "metadata": {},
   "outputs": [],
   "source": [
    "df"
   ]
  },
  {
   "cell_type": "markdown",
   "metadata": {},
   "source": [
    "---\n",
    "\n",
    "> ### 🚩 Exercise\n",
    "> Using the same technique, update the continent for Colombia to read \"South America\"."
   ]
  },
  {
   "cell_type": "code",
   "execution_count": null,
   "metadata": {},
   "outputs": [],
   "source": [
    "# ✏️ ENTER YOUR SOLUTION HERE\n",
    "\n",
    "\n"
   ]
  },
  {
   "cell_type": "markdown",
   "metadata": {},
   "source": [
    "### How to deal with `SettingWithCopyWarning`\n",
    "From time to time, you get a `SettingWithCopyWarning` message when you try to change an existing dataframe, e.g. by updating or adding a new column. This often happens after filtering a dataframe (on either rows or columns).\n",
    "\n",
    "Let's see this in action."
   ]
  },
  {
   "cell_type": "code",
   "execution_count": null,
   "metadata": {},
   "outputs": [],
   "source": [
    "# Create a filtered dataframe\n",
    "df_europe = df[df.continent == 'Europe']\n",
    "df_europe"
   ]
  },
  {
   "cell_type": "code",
   "execution_count": null,
   "metadata": {},
   "outputs": [],
   "source": [
    "# Try adding a new column\n",
    "df_europe['Population'] = 747933843\n",
    "df_europe"
   ]
  },
  {
   "cell_type": "code",
   "execution_count": null,
   "metadata": {},
   "outputs": [],
   "source": [
    "df_europe"
   ]
  },
  {
   "cell_type": "markdown",
   "metadata": {},
   "source": [
    "You can see that the new column has been added, but there are some dangers in ignoring this warning! Because `df_europe` is merely a subset of `df`, pandas doesn't duplicate the data \"in memory\" unless you ask it to.\n",
    "\n",
    "Why not? Imagine you're working with a 1GB dataset containing 100 million rows. pandas can handle this, but if your machine only has 4GB of working memory (RAM) then you don't want to create copies of the dataframe unless absolutely necessary!\n",
    "\n",
    "In the above case, and **in nearly all situations involving `SettingWithCopyWarning` the fix is simply to create an explicit copy of your data when filtering**."
   ]
  },
  {
   "cell_type": "code",
   "execution_count": null,
   "metadata": {},
   "outputs": [],
   "source": [
    "df_europe = df[df.continent == 'Europe'].copy()  # add .copy() on the end when you filter => no warning!\n",
    "df_europe['Population'] = 747933843\n",
    "df_europe"
   ]
  },
  {
   "cell_type": "markdown",
   "metadata": {},
   "source": [
    "---"
   ]
  },
  {
   "cell_type": "markdown",
   "metadata": {},
   "source": [
    "---\n",
    "<div class=\"alert alert-block alert-info\">\n",
    "    <b>Please proceed to the next part of the course when you are ready.</b>\n",
    "</div>"
   ]
  }
 ],
 "metadata": {
  "kernelspec": {
   "display_name": "Python 3",
   "language": "python",
   "name": "python3"
  },
  "language_info": {
   "codemirror_mode": {
    "name": "ipython",
    "version": 3
   },
   "file_extension": ".py",
   "mimetype": "text/x-python",
   "name": "python",
   "nbconvert_exporter": "python",
   "pygments_lexer": "ipython3",
   "version": "3.8.8"
  },
  "toc": {
   "base_numbering": 1,
   "nav_menu": {},
   "number_sections": true,
   "sideBar": true,
   "skip_h1_title": false,
   "title_cell": "Table of Contents",
   "title_sidebar": "Contents",
   "toc_cell": false,
   "toc_position": {},
   "toc_section_display": true,
   "toc_window_display": false
  }
 },
 "nbformat": 4,
 "nbformat_minor": 4
}
